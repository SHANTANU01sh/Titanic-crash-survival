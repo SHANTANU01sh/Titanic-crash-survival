{
 "cells": [
  {
   "cell_type": "code",
   "execution_count": 1,
   "id": "7c5e0bca",
   "metadata": {},
   "outputs": [],
   "source": [
    "import pandas as pd\n",
    "from sklearn.model_selection import train_test_split\n",
    "from sklearn.naive_bayes import GaussianNB\n",
    "\n",
    "# Load the dataset\n",
    "df = pd.read_csv(r\"C:\\Users\\KIIT\\Desktop\\CSV files\\all\\tested.csv\")"
   ]
  },
  {
   "cell_type": "code",
   "execution_count": 2,
   "id": "4a2218f8",
   "metadata": {},
   "outputs": [],
   "source": [
    "# Drop unnecessary columns\n",
    "df.drop(['PassengerId', 'Name', 'SibSp', 'Parch', 'Ticket', 'Cabin', 'Embarked'], axis='columns', inplace=True)"
   ]
  },
  {
   "cell_type": "code",
   "execution_count": 3,
   "id": "08a74666",
   "metadata": {},
   "outputs": [],
   "source": [
    "# Separate target and inputs\n",
    "target = df.Survived\n",
    "inputs = df.drop('Survived', axis='columns')"
   ]
  },
  {
   "cell_type": "code",
   "execution_count": 4,
   "id": "8f805cf6",
   "metadata": {},
   "outputs": [],
   "source": [
    "# One-hot encode 'Sex' column\n",
    "dummies = pd.get_dummies(inputs.Sex)\n",
    "inputs = pd.concat([inputs, dummies], axis='columns')\n",
    "inputs.drop('Sex', axis='columns', inplace=True)"
   ]
  },
  {
   "cell_type": "code",
   "execution_count": 5,
   "id": "f518f55e",
   "metadata": {},
   "outputs": [],
   "source": [
    "# Fill missing values in 'Age' with the mean\n",
    "inputs.Age = inputs.Age.fillna(inputs.Age.mean())"
   ]
  },
  {
   "cell_type": "code",
   "execution_count": 6,
   "id": "5865664a",
   "metadata": {},
   "outputs": [
    {
     "name": "stdout",
     "output_type": "stream",
     "text": [
      "Missing values in input data:\n",
      "Pclass    0\n",
      "Age       0\n",
      "Fare      1\n",
      "female    0\n",
      "male      0\n",
      "dtype: int64\n"
     ]
    }
   ],
   "source": [
    "# Check for missing values in the entire DataFrame\n",
    "missing_values = inputs.isnull().sum()\n",
    "print(\"Missing values in input data:\")\n",
    "print(missing_values)"
   ]
  },
  {
   "cell_type": "code",
   "execution_count": 7,
   "id": "1aca6d90",
   "metadata": {},
   "outputs": [],
   "source": [
    "# Fill missing values in 'Fare' with the mean (if any)\n",
    "inputs.Fare = inputs.Fare.fillna(inputs.Fare.mean())"
   ]
  },
  {
   "cell_type": "code",
   "execution_count": 8,
   "id": "04961932",
   "metadata": {},
   "outputs": [],
   "source": [
    "# One-hot encode 'Pclass' column\n",
    "pclass_dummies = pd.get_dummies(inputs['Pclass'], prefix='Pclass')\n",
    "inputs = pd.concat([inputs, pclass_dummies], axis=1)\n",
    "inputs.drop('Pclass', axis=1, inplace=True)"
   ]
  },
  {
   "cell_type": "code",
   "execution_count": 9,
   "id": "bcfdf85f",
   "metadata": {},
   "outputs": [],
   "source": [
    "# Split the dataset into training and testing sets\n",
    "X_train, X_test, y_train, y_test = train_test_split(inputs, target, test_size=0.2, random_state=42)"
   ]
  },
  {
   "cell_type": "code",
   "execution_count": 10,
   "id": "404e0139",
   "metadata": {},
   "outputs": [
    {
     "name": "stdout",
     "output_type": "stream",
     "text": [
      "Length of X_train: 334\n",
      "Length of X_test: 84\n",
      "Length of inputs: 418\n"
     ]
    }
   ],
   "source": [
    "# Check the lengths of the split datasets\n",
    "print(f'Length of X_train: {len(X_train)}')\n",
    "print(f'Length of X_test: {len(X_test)}')\n",
    "print(f'Length of inputs: {len(inputs)}')"
   ]
  },
  {
   "cell_type": "code",
   "execution_count": 11,
   "id": "83cbb808",
   "metadata": {},
   "outputs": [
    {
     "data": {
      "text/plain": [
       "GaussianNB()"
      ]
     },
     "execution_count": 11,
     "metadata": {},
     "output_type": "execute_result"
    }
   ],
   "source": [
    "# Initialize and train the model\n",
    "model = GaussianNB()\n",
    "model.fit(X_train, y_train)"
   ]
  },
  {
   "cell_type": "code",
   "execution_count": 12,
   "id": "265cc5b4",
   "metadata": {},
   "outputs": [
    {
     "name": "stdout",
     "output_type": "stream",
     "text": [
      "Accuracy: 1.0\n"
     ]
    }
   ],
   "source": [
    "# Check the model's accuracy\n",
    "accuracy = model.score(X_test, y_test)\n",
    "print(f'Accuracy: {accuracy}')"
   ]
  }
 ],
 "metadata": {
  "kernelspec": {
   "display_name": "Python 3 (ipykernel)",
   "language": "python",
   "name": "python3"
  },
  "language_info": {
   "codemirror_mode": {
    "name": "ipython",
    "version": 3
   },
   "file_extension": ".py",
   "mimetype": "text/x-python",
   "name": "python",
   "nbconvert_exporter": "python",
   "pygments_lexer": "ipython3",
   "version": "3.9.13"
  }
 },
 "nbformat": 4,
 "nbformat_minor": 5
}
